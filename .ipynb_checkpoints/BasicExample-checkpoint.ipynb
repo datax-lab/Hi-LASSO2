{
 "cells": [
  {
   "cell_type": "code",
   "execution_count": 1,
   "id": "7597e9bf",
   "metadata": {},
   "outputs": [],
   "source": [
    "from stochastic_lasso.stochastic_lasso import StochasticLasso\n",
    "import pickle\n",
    "from sklearn.metrics import f1_score\n",
    "\n",
    "# simulation data\n",
    "with open(\"./simulation_data/simulation_data.pickle\",\"rb\") as fr:\n",
    "    dataset = pickle.load(fr)\n",
    "\n",
    "X, y, beta, epslion = dataset['X'], dataset['y'], dataset['beta'], dataset['epslion']"
   ]
  },
  {
   "cell_type": "code",
   "execution_count": 2,
   "id": "61eb76ed",
   "metadata": {},
   "outputs": [
    {
     "name": "stderr",
     "output_type": "stream",
     "text": [
      "100%|██████████████████████████████████████████████████████████████████████████████████| 30/30 [00:33<00:00,  1.12s/it]\n"
     ]
    },
    {
     "data": {
      "text/plain": [
       "array([8.12162482, 7.49669328, 5.58956119, 6.50250318, 5.23436909,\n",
       "       5.97382417, 7.66715796, 6.96596231, 6.05781338, 6.03871771,\n",
       "       4.59469839, 5.53349481, 6.20733481, 4.35703079, 3.88099704,\n",
       "       0.        , 0.        , 0.        , 0.        , 0.        ,\n",
       "       0.        , 0.        , 0.        , 0.        , 0.        ,\n",
       "       0.        , 0.        , 0.        , 0.        , 0.        ,\n",
       "       0.        , 0.        , 0.        , 0.        , 0.        ,\n",
       "       0.        , 0.        , 0.        , 0.        , 0.        ,\n",
       "       0.        , 0.        , 0.        , 0.        , 0.        ,\n",
       "       0.        , 0.        , 0.        , 0.        , 0.        ,\n",
       "       0.        , 0.        , 0.        , 0.        , 0.        ,\n",
       "       0.        , 0.        , 0.        , 0.        , 0.        ,\n",
       "       0.        , 0.        , 0.        , 0.        , 0.        ,\n",
       "       0.        , 0.        , 0.        , 0.        , 0.        ,\n",
       "       0.        , 0.        , 0.        , 0.        , 0.        ,\n",
       "       0.        , 0.        , 0.        , 0.        , 0.        ,\n",
       "       0.        , 0.        , 0.        , 0.        , 0.        ,\n",
       "       0.        , 0.        , 0.        , 0.        , 0.        ,\n",
       "       0.        , 0.        , 0.        , 0.        , 0.        ,\n",
       "       0.        , 0.        , 0.        , 0.        , 0.        ])"
      ]
     },
     "execution_count": 2,
     "metadata": {},
     "output_type": "execute_result"
    }
   ],
   "source": [
    "# Create a Stochastic LASSO model\n",
    "HiLasso2 = StochasticLasso(q='auto', r=30, logistic=False, alpha=0.05, random_state=None)\n",
    "\n",
    "# Fit the model\n",
    "HiLasso2.fit(X, y, sample_weight=None)\n",
    "\n",
    "# coefficient estimate\n",
    "HiLasso2.coef_"
   ]
  },
  {
   "cell_type": "code",
   "execution_count": 3,
   "id": "750351e4",
   "metadata": {
    "scrolled": true
   },
   "outputs": [
    {
     "data": {
      "text/plain": [
       "array([3.27113165e-19, 8.27511040e-16, 3.24111330e-07, 7.16360324e-11,\n",
       "       4.62425151e-06, 1.45634435e-08, 9.61807096e-17, 6.75436719e-13,\n",
       "       6.17121980e-09, 8.28399086e-09, 3.47136039e-04, 5.33534939e-07,\n",
       "       1.32628143e-09, 1.25455715e-03, 1.17446038e-02, 1.00000000e+00,\n",
       "       1.00000000e+00, 1.00000000e+00, 1.00000000e+00, 9.98421956e-01,\n",
       "       1.00000000e+00, 9.99732374e-01, 9.99701109e-01, 1.00000000e+00,\n",
       "       1.00000000e+00, 1.00000000e+00, 1.00000000e+00, 1.00000000e+00,\n",
       "       1.00000000e+00, 1.00000000e+00, 9.99903811e-01, 1.00000000e+00,\n",
       "       9.99837037e-01, 9.98744027e-01, 9.99575788e-01, 1.00000000e+00,\n",
       "       1.00000000e+00, 1.00000000e+00, 1.00000000e+00, 1.00000000e+00,\n",
       "       1.00000000e+00, 1.00000000e+00, 9.99675448e-01, 1.00000000e+00,\n",
       "       1.00000000e+00, 1.00000000e+00, 1.00000000e+00, 1.00000000e+00,\n",
       "       1.00000000e+00, 9.99533051e-01, 9.97795585e-01, 9.99178858e-01,\n",
       "       9.99589603e-01, 9.99185767e-01, 9.91514506e-01, 1.00000000e+00,\n",
       "       1.00000000e+00, 1.00000000e+00, 1.00000000e+00, 1.00000000e+00,\n",
       "       1.00000000e+00, 1.00000000e+00, 9.99480491e-01, 9.99561542e-01,\n",
       "       9.97432238e-01, 9.99549429e-01, 1.00000000e+00, 9.99552408e-01,\n",
       "       1.00000000e+00, 1.00000000e+00, 1.00000000e+00, 9.99931119e-01,\n",
       "       9.99607123e-01, 1.00000000e+00, 1.00000000e+00, 9.99678328e-01,\n",
       "       1.00000000e+00, 9.99746899e-01, 1.00000000e+00, 9.99753833e-01,\n",
       "       1.00000000e+00, 1.00000000e+00, 1.00000000e+00, 1.00000000e+00,\n",
       "       1.00000000e+00, 1.00000000e+00, 1.00000000e+00, 1.00000000e+00,\n",
       "       1.00000000e+00, 1.00000000e+00, 1.00000000e+00, 1.00000000e+00,\n",
       "       9.99839169e-01, 1.00000000e+00, 1.00000000e+00, 1.00000000e+00,\n",
       "       1.00000000e+00, 1.00000000e+00, 1.00000000e+00, 9.99605914e-01])"
      ]
     },
     "execution_count": 3,
     "metadata": {},
     "output_type": "execute_result"
    }
   ],
   "source": [
    "# p-values\n",
    "HiLasso2.p_values_"
   ]
  },
  {
   "cell_type": "code",
   "execution_count": 4,
   "id": "8d1a29b8",
   "metadata": {},
   "outputs": [
    {
     "data": {
      "text/plain": [
       "1.0"
      ]
     },
     "execution_count": 4,
     "metadata": {},
     "output_type": "execute_result"
    }
   ],
   "source": [
    "# evaluating feature selection performance\n",
    "\n",
    "# ground truth of non-zero variables\n",
    "gt = (beta!=0).astype(int)\n",
    "\n",
    "# non-zero variables selected by Hi-LASSO2\n",
    "selection = (HiLasso2.coef_!=0).astype(int)\n",
    "\n",
    "f1_score(gt, selection)"
   ]
  }
 ],
 "metadata": {
  "kernelspec": {
   "display_name": "Python 3 (ipykernel)",
   "language": "python",
   "name": "python3"
  },
  "language_info": {
   "codemirror_mode": {
    "name": "ipython",
    "version": 3
   },
   "file_extension": ".py",
   "mimetype": "text/x-python",
   "name": "python",
   "nbconvert_exporter": "python",
   "pygments_lexer": "ipython3",
   "version": "3.7.13"
  }
 },
 "nbformat": 4,
 "nbformat_minor": 5
}
