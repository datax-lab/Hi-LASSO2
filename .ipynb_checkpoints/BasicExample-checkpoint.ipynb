{
 "cells": [
  {
   "cell_type": "code",
   "execution_count": 1,
   "id": "7597e9bf",
   "metadata": {},
   "outputs": [],
   "source": [
    "from hi_lasso2.hi_lasso2 import HiLasso2\n",
    "import pickle\n",
    "from sklearn.metrics import f1_score\n",
    "\n",
    "# simulation data\n",
    "with open(\"./simulation_data/simulation_data.pickle\",\"rb\") as fr:\n",
    "    dataset = pickle.load(fr)\n",
    "\n",
    "X, y, beta, epslion = dataset['X'], dataset['y'], dataset['beta'], dataset['epslion']"
   ]
  },
  {
   "cell_type": "code",
   "execution_count": 2,
   "id": "61eb76ed",
   "metadata": {},
   "outputs": [
    {
     "name": "stderr",
     "output_type": "stream",
     "text": [
      "100%|██████████████████████████████████████████████████████████████████████████████████| 30/30 [00:32<00:00,  1.08s/it]\n"
     ]
    },
    {
     "data": {
      "text/plain": [
       "array([7.56651865, 6.98795672, 5.46200697, 5.3996025 , 6.40816779,\n",
       "       5.85954969, 8.15241259, 6.35641494, 5.69620017, 5.61334826,\n",
       "       5.52520411, 5.86964659, 4.77960052, 4.16820512, 3.72130659,\n",
       "       0.        , 0.        , 0.        , 0.        , 0.        ,\n",
       "       0.        , 0.        , 0.        , 0.        , 0.        ,\n",
       "       0.        , 0.        , 0.        , 0.        , 0.        ,\n",
       "       0.        , 0.        , 0.        , 0.        , 0.        ,\n",
       "       0.        , 0.        , 0.        , 0.        , 0.        ,\n",
       "       0.        , 0.        , 0.        , 0.        , 0.        ,\n",
       "       0.        , 0.        , 0.        , 0.        , 0.        ,\n",
       "       0.        , 0.        , 0.        , 0.        , 0.        ,\n",
       "       0.        , 0.        , 0.        , 0.        , 0.        ,\n",
       "       0.        , 0.        , 0.        , 0.        , 0.        ,\n",
       "       0.        , 0.        , 0.        , 0.        , 0.        ,\n",
       "       0.        , 0.        , 0.        , 0.        , 0.        ,\n",
       "       0.        , 0.        , 0.        , 0.        , 0.        ,\n",
       "       0.        , 0.        , 0.        , 0.        , 0.        ,\n",
       "       0.        , 0.        , 0.        , 0.        , 0.        ,\n",
       "       0.        , 0.        , 0.        , 0.        , 0.        ,\n",
       "       0.        , 0.        , 0.        , 0.        , 0.        ])"
      ]
     },
     "execution_count": 2,
     "metadata": {},
     "output_type": "execute_result"
    }
   ],
   "source": [
    "# Create a Hi-LASSO2 model\n",
    "HiLasso2 = HiLasso2(q='auto', r=30, logistic=False, alpha=0.05, random_state=None)\n",
    "\n",
    "# Fit the model\n",
    "HiLasso2.fit(X, y, sample_weight=None)\n",
    "\n",
    "# coefficient estimate\n",
    "HiLasso2.coef_"
   ]
  },
  {
   "cell_type": "code",
   "execution_count": 3,
   "id": "750351e4",
   "metadata": {
    "scrolled": true
   },
   "outputs": [
    {
     "data": {
      "text/plain": [
       "array([3.98595880e-20, 1.36517531e-16, 9.31936262e-09, 1.68436227e-08,\n",
       "       2.64776654e-13, 1.67574797e-10, 5.35567058e-24, 6.03305241e-13,\n",
       "       1.18399479e-09, 2.16606529e-09, 4.94957697e-09, 1.89173267e-10,\n",
       "       3.72806966e-06, 2.88308842e-04, 3.64152829e-03, 1.00000000e+00,\n",
       "       1.00000000e+00, 1.00000000e+00, 1.00000000e+00, 9.97322069e-01,\n",
       "       1.00000000e+00, 1.00000000e+00, 9.99667983e-01, 1.00000000e+00,\n",
       "       9.99532868e-01, 1.00000000e+00, 1.00000000e+00, 1.00000000e+00,\n",
       "       1.00000000e+00, 1.00000000e+00, 1.00000000e+00, 9.99648787e-01,\n",
       "       9.99217797e-01, 9.99330604e-01, 9.89398438e-01, 9.97888290e-01,\n",
       "       1.00000000e+00, 1.00000000e+00, 1.00000000e+00, 9.99616911e-01,\n",
       "       9.98388127e-01, 1.00000000e+00, 9.99091670e-01, 1.00000000e+00,\n",
       "       1.00000000e+00, 1.00000000e+00, 1.00000000e+00, 9.99327477e-01,\n",
       "       9.99763241e-01, 1.00000000e+00, 9.98786181e-01, 9.98538104e-01,\n",
       "       9.98935840e-01, 9.90801476e-01, 9.97199299e-01, 1.00000000e+00,\n",
       "       1.00000000e+00, 1.00000000e+00, 1.00000000e+00, 1.00000000e+00,\n",
       "       1.00000000e+00, 9.98999511e-01, 9.98933257e-01, 9.94721403e-01,\n",
       "       1.00000000e+00, 9.98251547e-01, 9.99265433e-01, 1.00000000e+00,\n",
       "       1.00000000e+00, 1.00000000e+00, 9.98775504e-01, 9.99551922e-01,\n",
       "       9.98958574e-01, 1.00000000e+00, 1.00000000e+00, 1.00000000e+00,\n",
       "       1.00000000e+00, 1.00000000e+00, 1.00000000e+00, 9.99344217e-01,\n",
       "       1.00000000e+00, 9.98335004e-01, 1.00000000e+00, 1.00000000e+00,\n",
       "       1.00000000e+00, 1.00000000e+00, 1.00000000e+00, 1.00000000e+00,\n",
       "       1.00000000e+00, 1.00000000e+00, 1.00000000e+00, 1.00000000e+00,\n",
       "       9.99403471e-01, 1.00000000e+00, 9.99321793e-01, 1.00000000e+00,\n",
       "       1.00000000e+00, 1.00000000e+00, 1.00000000e+00, 9.99680421e-01])"
      ]
     },
     "execution_count": 3,
     "metadata": {},
     "output_type": "execute_result"
    }
   ],
   "source": [
    "# p-values\n",
    "HiLasso2.p_values_"
   ]
  },
  {
   "cell_type": "code",
   "execution_count": 4,
   "id": "8d1a29b8",
   "metadata": {},
   "outputs": [
    {
     "data": {
      "text/plain": [
       "1.0"
      ]
     },
     "execution_count": 4,
     "metadata": {},
     "output_type": "execute_result"
    }
   ],
   "source": [
    "# evaluating feature selection performance\n",
    "\n",
    "# ground truth of non-zero variables\n",
    "gt = (beta!=0).astype(int)\n",
    "\n",
    "# non-zero variables selected by Hi-LASSO2\n",
    "selection = (HiLasso2.coef_!=0).astype(int)\n",
    "\n",
    "f1_score(gt, selection)"
   ]
  }
 ],
 "metadata": {
  "kernelspec": {
   "display_name": "Python 3 (ipykernel)",
   "language": "python",
   "name": "python3"
  },
  "language_info": {
   "codemirror_mode": {
    "name": "ipython",
    "version": 3
   },
   "file_extension": ".py",
   "mimetype": "text/x-python",
   "name": "python",
   "nbconvert_exporter": "python",
   "pygments_lexer": "ipython3",
   "version": "3.7.13"
  }
 },
 "nbformat": 4,
 "nbformat_minor": 5
}
