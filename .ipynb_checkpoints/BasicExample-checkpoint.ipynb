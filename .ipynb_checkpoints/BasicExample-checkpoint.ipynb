{
 "cells": [
  {
   "cell_type": "code",
   "execution_count": 1,
   "id": "7597e9bf",
   "metadata": {},
   "outputs": [],
   "source": [
    "from hi_lasso2.hi_lasso2 import HiLasso2\n",
    "import pickle\n",
    "from sklearn.metrics import f1_score\n",
    "\n",
    "# simulation data\n",
    "with open(\"./simulation_data/simulation_data.pickle\",\"rb\") as fr:\n",
    "    dataset = pickle.load(fr)\n",
    "\n",
    "X, y, beta, epslion = dataset['X'], dataset['y'], dataset['beta'], dataset['epslion']"
   ]
  },
  {
   "cell_type": "code",
   "execution_count": 2,
   "id": "61eb76ed",
   "metadata": {},
   "outputs": [
    {
     "name": "stderr",
     "output_type": "stream",
     "text": [
      "100%|██████████████████████████████████████████████████████████████████████████████████| 30/30 [00:31<00:00,  1.05s/it]\n"
     ]
    },
    {
     "data": {
      "text/plain": [
       "array([6.75744481, 7.62322897, 5.97759297, 5.9426609 , 5.20714915,\n",
       "       5.13481007, 8.17077957, 6.56110291, 5.54143708, 5.89624769,\n",
       "       3.5210002 , 5.85985086, 7.33355252, 4.87084845, 3.5212834 ,\n",
       "       0.        , 0.        , 0.        , 0.        , 0.        ,\n",
       "       0.        , 0.        , 0.        , 0.        , 0.        ,\n",
       "       0.        , 0.        , 0.        , 0.        , 0.        ,\n",
       "       0.        , 0.        , 0.        , 0.        , 0.        ,\n",
       "       0.        , 0.        , 0.        , 0.        , 0.        ,\n",
       "       0.        , 0.        , 0.        , 0.        , 0.        ,\n",
       "       0.        , 0.        , 0.        , 0.        , 0.        ,\n",
       "       0.        , 0.        , 0.        , 0.        , 0.        ,\n",
       "       0.        , 0.        , 0.        , 0.        , 0.        ,\n",
       "       0.        , 0.        , 0.        , 0.        , 0.        ,\n",
       "       0.        , 0.        , 0.        , 0.        , 0.        ,\n",
       "       0.        , 0.        , 0.        , 0.        , 0.        ,\n",
       "       0.        , 0.        , 0.        , 0.        , 0.        ,\n",
       "       0.        , 0.        , 0.        , 0.        , 0.        ,\n",
       "       0.        , 0.        , 0.        , 0.        , 0.        ,\n",
       "       0.        , 0.        , 0.        , 0.        , 0.        ,\n",
       "       0.        , 0.        , 0.        , 0.        , 0.        ])"
      ]
     },
     "execution_count": 2,
     "metadata": {},
     "output_type": "execute_result"
    }
   ],
   "source": [
    "# Create a Hi-LASSO2 model\n",
    "HiLasso2 = HiLasso2(q='auto', r=30, logistic=False, alpha=0.05, random_state=None)\n",
    "\n",
    "# Fit the model\n",
    "HiLasso2.fit(X, y, sample_weight=None)\n",
    "\n",
    "# coefficient estimate\n",
    "HiLasso2.coef_"
   ]
  },
  {
   "cell_type": "code",
   "execution_count": 3,
   "id": "750351e4",
   "metadata": {
    "scrolled": true
   },
   "outputs": [
    {
     "data": {
      "text/plain": [
       "array([2.66245333e-13, 3.31528224e-18, 1.53914162e-09, 1.84957750e-09,\n",
       "       1.38622425e-06, 2.70859227e-06, 1.18995115e-21, 2.27562281e-12,\n",
       "       9.41169490e-08, 3.36679405e-09, 2.90272427e-02, 4.62526867e-09,\n",
       "       1.43020655e-16, 1.92889241e-05, 2.93488839e-02, 1.00000000e+00,\n",
       "       1.00000000e+00, 1.00000000e+00, 1.00000000e+00, 9.99532049e-01,\n",
       "       9.99800793e-01, 1.00000000e+00, 9.99855698e-01, 1.00000000e+00,\n",
       "       1.00000000e+00, 1.00000000e+00, 1.00000000e+00, 1.00000000e+00,\n",
       "       1.00000000e+00, 1.00000000e+00, 1.00000000e+00, 1.00000000e+00,\n",
       "       1.00000000e+00, 9.99325995e-01, 9.98414801e-01, 9.99796270e-01,\n",
       "       1.00000000e+00, 9.98715501e-01, 1.00000000e+00, 1.00000000e+00,\n",
       "       1.00000000e+00, 1.00000000e+00, 9.99739203e-01, 1.00000000e+00,\n",
       "       1.00000000e+00, 1.00000000e+00, 1.00000000e+00, 9.99659486e-01,\n",
       "       1.00000000e+00, 9.99825657e-01, 9.98773794e-01, 9.95679589e-01,\n",
       "       1.00000000e+00, 9.98505082e-01, 9.95809058e-01, 1.00000000e+00,\n",
       "       1.00000000e+00, 1.00000000e+00, 9.99471831e-01, 9.99943685e-01,\n",
       "       1.00000000e+00, 9.99724222e-01, 9.98772892e-01, 9.99871217e-01,\n",
       "       1.00000000e+00, 9.99816472e-01, 9.99851147e-01, 1.00000000e+00,\n",
       "       1.00000000e+00, 9.99723342e-01, 1.00000000e+00, 1.00000000e+00,\n",
       "       1.00000000e+00, 9.99925840e-01, 1.00000000e+00, 1.00000000e+00,\n",
       "       1.00000000e+00, 1.00000000e+00, 1.00000000e+00, 1.00000000e+00,\n",
       "       1.00000000e+00, 1.00000000e+00, 1.00000000e+00, 1.00000000e+00,\n",
       "       1.00000000e+00, 1.00000000e+00, 1.00000000e+00, 1.00000000e+00,\n",
       "       1.00000000e+00, 1.00000000e+00, 1.00000000e+00, 1.00000000e+00,\n",
       "       9.99714903e-01, 9.99858512e-01, 1.00000000e+00, 1.00000000e+00,\n",
       "       1.00000000e+00, 1.00000000e+00, 1.00000000e+00, 9.99906262e-01])"
      ]
     },
     "execution_count": 3,
     "metadata": {},
     "output_type": "execute_result"
    }
   ],
   "source": [
    "# p-values\n",
    "HiLasso2.p_values_"
   ]
  },
  {
   "cell_type": "code",
   "execution_count": 4,
   "id": "8d1a29b8",
   "metadata": {},
   "outputs": [
    {
     "data": {
      "text/plain": [
       "1.0"
      ]
     },
     "execution_count": 4,
     "metadata": {},
     "output_type": "execute_result"
    }
   ],
   "source": [
    "# evaluating feature selection performance\n",
    "\n",
    "# ground truth of non-zero variables\n",
    "gt = (beta!=0).astype(int)\n",
    "\n",
    "# non-zero variables selected by Hi-LASSO2\n",
    "selection = (HiLasso2.coef_!=0).astype(int)\n",
    "\n",
    "f1_score(gt, selection)"
   ]
  }
 ],
 "metadata": {
  "kernelspec": {
   "display_name": "Python 3 (ipykernel)",
   "language": "python",
   "name": "python3"
  },
  "language_info": {
   "codemirror_mode": {
    "name": "ipython",
    "version": 3
   },
   "file_extension": ".py",
   "mimetype": "text/x-python",
   "name": "python",
   "nbconvert_exporter": "python",
   "pygments_lexer": "ipython3",
   "version": "3.7.13"
  }
 },
 "nbformat": 4,
 "nbformat_minor": 5
}
