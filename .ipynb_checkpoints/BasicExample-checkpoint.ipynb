{
 "cells": [
  {
   "cell_type": "code",
   "execution_count": 1,
   "id": "7597e9bf",
   "metadata": {},
   "outputs": [],
   "source": [
    "from stochastic_lasso.stochastic_lasso import StochasticLasso\n",
    "import pickle\n",
    "from sklearn.metrics import f1_score\n",
    "\n",
    "# simulation data\n",
    "with open(\"./simulation_data/simulation_data.pickle\",\"rb\") as fr:\n",
    "    dataset = pickle.load(fr)\n",
    "\n",
    "X, y, beta, epslion = dataset['X'], dataset['y'], dataset['beta'], dataset['epslion']"
   ]
  },
  {
   "cell_type": "code",
   "execution_count": 2,
   "id": "61eb76ed",
   "metadata": {},
   "outputs": [
    {
     "name": "stderr",
     "output_type": "stream",
     "text": [
      "100%|██████████████████████████████████████████████████████████████████████████████████| 30/30 [00:32<00:00,  1.09s/it]\n"
     ]
    },
    {
     "data": {
      "text/plain": [
       "array([7.20182109, 7.38709383, 7.55450824, 6.25638274, 4.69693902,\n",
       "       5.84192674, 8.70182329, 6.61126639, 6.69305227, 5.49990911,\n",
       "       5.35435823, 6.34462983, 5.34307779, 4.67203673, 4.10528299,\n",
       "       0.        , 0.        , 0.        , 0.        , 0.        ,\n",
       "       0.        , 0.        , 0.        , 0.        , 0.        ,\n",
       "       0.        , 0.        , 0.        , 0.        , 0.        ,\n",
       "       0.        , 0.        , 0.        , 0.        , 0.        ,\n",
       "       0.        , 0.        , 0.        , 0.        , 0.        ,\n",
       "       0.        , 0.        , 0.        , 0.        , 0.        ,\n",
       "       0.        , 0.        , 0.        , 0.        , 0.        ,\n",
       "       0.        , 0.        , 0.        , 0.        , 0.        ,\n",
       "       0.        , 0.        , 0.        , 0.        , 0.        ,\n",
       "       0.        , 0.        , 0.        , 0.        , 0.        ,\n",
       "       0.        , 0.        , 0.        , 0.        , 0.        ,\n",
       "       0.        , 0.        , 0.        , 0.        , 0.        ,\n",
       "       0.        , 0.        , 0.        , 0.        , 0.        ,\n",
       "       0.        , 0.        , 0.        , 0.        , 0.        ,\n",
       "       0.        , 0.        , 0.        , 0.        , 0.        ,\n",
       "       0.        , 0.        , 0.        , 0.        , 0.        ,\n",
       "       0.        , 0.        , 0.        , 0.        , 0.        ])"
      ]
     },
     "execution_count": 2,
     "metadata": {},
     "output_type": "execute_result"
    }
   ],
   "source": [
    "# Create a Stochastic LASSO model\n",
    "S_Lasso = StochasticLasso(q='auto', r=30, logistic=False, alpha=0.05, random_state=None)\n",
    "\n",
    "# Fit the model\n",
    "S_Lasso.fit(X, y, sample_weight=None)\n",
    "\n",
    "# coefficient estimate\n",
    "S_Lasso.coef_"
   ]
  },
  {
   "cell_type": "code",
   "execution_count": 3,
   "id": "750351e4",
   "metadata": {
    "scrolled": true
   },
   "outputs": [
    {
     "data": {
      "text/plain": [
       "array([3.42154397e-12, 6.53898501e-13, 8.28721456e-14, 2.97304826e-08,\n",
       "       8.84354807e-04, 6.49307548e-07, 8.03238389e-20, 9.41818773e-10,\n",
       "       5.86295316e-10, 7.81376723e-06, 2.15345359e-05, 1.23777307e-08,\n",
       "       2.13479432e-05, 1.08803772e-03, 1.32810760e-02, 1.00000000e+00,\n",
       "       1.00000000e+00, 1.00000000e+00, 1.00000000e+00, 9.99745759e-01,\n",
       "       1.00000000e+00, 1.00000000e+00, 1.00000000e+00, 1.00000000e+00,\n",
       "       9.99838520e-01, 1.00000000e+00, 1.00000000e+00, 1.00000000e+00,\n",
       "       1.00000000e+00, 1.00000000e+00, 1.00000000e+00, 1.00000000e+00,\n",
       "       9.99790296e-01, 9.98335337e-01, 9.99569338e-01, 1.00000000e+00,\n",
       "       1.00000000e+00, 1.00000000e+00, 1.00000000e+00, 1.00000000e+00,\n",
       "       1.00000000e+00, 1.00000000e+00, 1.00000000e+00, 1.00000000e+00,\n",
       "       1.00000000e+00, 1.00000000e+00, 1.00000000e+00, 1.00000000e+00,\n",
       "       1.00000000e+00, 9.99756740e-01, 9.99841049e-01, 9.99781535e-01,\n",
       "       1.00000000e+00, 9.97739236e-01, 9.99594364e-01, 1.00000000e+00,\n",
       "       1.00000000e+00, 1.00000000e+00, 1.00000000e+00, 1.00000000e+00,\n",
       "       1.00000000e+00, 9.99775193e-01, 9.99696023e-01, 9.99067496e-01,\n",
       "       9.99780699e-01, 1.00000000e+00, 1.00000000e+00, 9.99867968e-01,\n",
       "       1.00000000e+00, 1.00000000e+00, 1.00000000e+00, 1.00000000e+00,\n",
       "       9.99797986e-01, 1.00000000e+00, 1.00000000e+00, 1.00000000e+00,\n",
       "       1.00000000e+00, 9.99919374e-01, 1.00000000e+00, 9.99963453e-01,\n",
       "       1.00000000e+00, 1.00000000e+00, 1.00000000e+00, 1.00000000e+00,\n",
       "       1.00000000e+00, 1.00000000e+00, 1.00000000e+00, 1.00000000e+00,\n",
       "       9.99924139e-01, 1.00000000e+00, 1.00000000e+00, 9.99756850e-01,\n",
       "       9.99699093e-01, 1.00000000e+00, 1.00000000e+00, 1.00000000e+00,\n",
       "       1.00000000e+00, 9.99950970e-01, 9.99867236e-01, 1.00000000e+00])"
      ]
     },
     "execution_count": 3,
     "metadata": {},
     "output_type": "execute_result"
    }
   ],
   "source": [
    "# p-values\n",
    "S_Lasso.p_values_"
   ]
  },
  {
   "cell_type": "code",
   "execution_count": 4,
   "id": "8d1a29b8",
   "metadata": {},
   "outputs": [
    {
     "data": {
      "text/plain": [
       "1.0"
      ]
     },
     "execution_count": 4,
     "metadata": {},
     "output_type": "execute_result"
    }
   ],
   "source": [
    "# evaluating feature selection performance\n",
    "\n",
    "# ground truth of non-zero variables\n",
    "gt = (beta!=0).astype(int)\n",
    "\n",
    "# non-zero variables selected by Stochastic LASSO\n",
    "selection = (S_Lasso.coef_!=0).astype(int)\n",
    "\n",
    "f1_score(gt, selection)"
   ]
  }
 ],
 "metadata": {
  "kernelspec": {
   "display_name": "Python 3 (ipykernel)",
   "language": "python",
   "name": "python3"
  },
  "language_info": {
   "codemirror_mode": {
    "name": "ipython",
    "version": 3
   },
   "file_extension": ".py",
   "mimetype": "text/x-python",
   "name": "python",
   "nbconvert_exporter": "python",
   "pygments_lexer": "ipython3",
   "version": "3.7.13"
  }
 },
 "nbformat": 4,
 "nbformat_minor": 5
}
