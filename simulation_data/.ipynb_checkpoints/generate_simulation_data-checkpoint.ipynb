{
 "cells": [
  {
   "cell_type": "code",
   "execution_count": 1,
   "id": "82b7a638",
   "metadata": {},
   "outputs": [],
   "source": [
    "import numpy as np\n",
    "import pickle\n",
    "\n",
    "n_sample = 50\n",
    "n_feature = 100\n",
    "n_nonzero = 15\n",
    "sigma = 3\n",
    "\n",
    "# set covariance matrix\n",
    "corr = np.zeros((n_feature, n_feature))\n",
    "for i in range(int(n_feature/5)):\n",
    "    corr[5*i:5*(i+1), 5*i:5*(i+1)] = 0.9\n",
    "    \n",
    "np.fill_diagonal(corr, 1)\n",
    "cov = (sigma ** 2) * corr\n",
    "\n",
    "# set random seed\n",
    "rs = np.random.default_rng(0)\n",
    "# generate beta\n",
    "beta = np.hstack([rs.normal(loc=4, scale=1, size=int(n_nonzero)),\n",
    "                  np.zeros(int(n_feature - n_nonzero))])\n",
    "# generate X    \n",
    "X = rs.multivariate_normal(mean=np.zeros(n_feature), cov=cov, size=n_sample)\n",
    "# genearte epsilon\n",
    "epslion = rs.normal(loc=0, scale=sigma, size=n_sample)\n",
    "# generate y\n",
    "y = (X @ beta) + epslion\n",
    "\n",
    "dataset = {}\n",
    "dataset['X'], dataset['y'], dataset['beta'], dataset['epslion'] = X, y, beta, epslion\n",
    "with open(\"./simulation_data.pickle\",\"wb\") as fw:\n",
    "    pickle.dump(dataset, fw)"
   ]
  }
 ],
 "metadata": {
  "kernelspec": {
   "display_name": "Python 3 (ipykernel)",
   "language": "python",
   "name": "python3"
  },
  "language_info": {
   "codemirror_mode": {
    "name": "ipython",
    "version": 3
   },
   "file_extension": ".py",
   "mimetype": "text/x-python",
   "name": "python",
   "nbconvert_exporter": "python",
   "pygments_lexer": "ipython3",
   "version": "3.7.13"
  }
 },
 "nbformat": 4,
 "nbformat_minor": 5
}
