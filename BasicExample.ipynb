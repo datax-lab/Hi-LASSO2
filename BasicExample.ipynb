{
 "cells": [
  {
   "cell_type": "code",
   "execution_count": 1,
   "id": "7597e9bf",
   "metadata": {},
   "outputs": [],
   "source": [
    "from hi_lasso2.hi_lasso2 import HiLasso2\n",
    "import pickle\n",
    "from sklearn.metrics import f1_score\n",
    "\n",
    "# simulation data\n",
    "with open(\"./simulation_data/simulation_data.pickle\",\"rb\") as fr:\n",
    "    dataset = pickle.load(fr)\n",
    "\n",
    "X, y, beta, epslion = dataset['X'], dataset['y'], dataset['beta'], dataset['epslion']"
   ]
  },
  {
   "cell_type": "code",
   "execution_count": 2,
   "id": "61eb76ed",
   "metadata": {},
   "outputs": [
    {
     "name": "stderr",
     "output_type": "stream",
     "text": [
      "100%|██████████████████████████████████████████████████████████████████████████████████| 30/30 [00:32<00:00,  1.07s/it]\n"
     ]
    },
    {
     "data": {
      "text/plain": [
       "array([7.15436626, 7.02912855, 6.34412027, 5.87301358, 6.16725991,\n",
       "       5.14977148, 8.8735046 , 7.10223904, 4.93929407, 6.97304128,\n",
       "       5.07791294, 6.05018721, 6.86032174, 3.68371583, 3.5289278 ,\n",
       "       0.        , 0.        , 0.        , 0.        , 0.        ,\n",
       "       0.        , 0.        , 0.        , 0.        , 0.        ,\n",
       "       0.        , 0.        , 0.        , 0.        , 0.        ,\n",
       "       0.        , 0.        , 0.        , 0.        , 0.        ,\n",
       "       0.        , 0.        , 0.        , 0.        , 0.        ,\n",
       "       0.        , 0.        , 0.        , 0.        , 0.        ,\n",
       "       0.        , 0.        , 0.        , 0.        , 0.        ,\n",
       "       0.        , 0.        , 0.        , 0.        , 0.        ,\n",
       "       0.        , 0.        , 0.        , 0.        , 0.        ,\n",
       "       0.        , 0.        , 0.        , 0.        , 0.        ,\n",
       "       0.        , 0.        , 0.        , 0.        , 0.        ,\n",
       "       0.        , 0.        , 0.        , 0.        , 0.        ,\n",
       "       0.        , 0.        , 0.        , 0.        , 0.        ,\n",
       "       0.        , 0.        , 0.        , 0.        , 0.        ,\n",
       "       0.        , 0.        , 0.        , 0.        , 0.        ,\n",
       "       0.        , 0.        , 0.        , 0.        , 0.        ,\n",
       "       0.        , 0.        , 0.        , 0.        , 0.        ])"
      ]
     },
     "execution_count": 2,
     "metadata": {},
     "output_type": "execute_result"
    }
   ],
   "source": [
    "# Create a Hi-LASSO2 model\n",
    "HiLasso2 = HiLasso2(q='auto', r=30, logistic=False, alpha=0.05, random_state=None)\n",
    "\n",
    "# Fit the model\n",
    "HiLasso2.fit(X, y, sample_weight=None)\n",
    "\n",
    "# coefficient estimate\n",
    "HiLasso2.coef_"
   ]
  },
  {
   "cell_type": "code",
   "execution_count": 3,
   "id": "750351e4",
   "metadata": {
    "scrolled": true
   },
   "outputs": [
    {
     "data": {
      "text/plain": [
       "array([2.19705179e-14, 1.06217626e-13, 1.85585550e-10, 1.51607522e-08,\n",
       "       8.01438060e-10, 4.47349530e-06, 2.89626767e-24, 5.06568986e-14,\n",
       "       2.06027303e-05, 2.99133315e-13, 7.88824705e-06, 2.86122925e-09,\n",
       "       7.45842974e-13, 1.65691579e-02, 2.92350333e-02, 1.00000000e+00,\n",
       "       1.00000000e+00, 1.00000000e+00, 1.00000000e+00, 9.98257639e-01,\n",
       "       1.00000000e+00, 1.00000000e+00, 1.00000000e+00, 1.00000000e+00,\n",
       "       1.00000000e+00, 9.99465762e-01, 1.00000000e+00, 1.00000000e+00,\n",
       "       1.00000000e+00, 1.00000000e+00, 1.00000000e+00, 1.00000000e+00,\n",
       "       1.00000000e+00, 9.99740050e-01, 9.96460790e-01, 9.99519829e-01,\n",
       "       1.00000000e+00, 9.99680784e-01, 1.00000000e+00, 1.00000000e+00,\n",
       "       1.00000000e+00, 1.00000000e+00, 1.00000000e+00, 1.00000000e+00,\n",
       "       1.00000000e+00, 1.00000000e+00, 9.99590202e-01, 9.99698481e-01,\n",
       "       9.99789770e-01, 9.99275336e-01, 9.99027330e-01, 9.97589216e-01,\n",
       "       9.97890337e-01, 9.97876675e-01, 9.92657694e-01, 1.00000000e+00,\n",
       "       1.00000000e+00, 1.00000000e+00, 1.00000000e+00, 1.00000000e+00,\n",
       "       9.99289804e-01, 1.00000000e+00, 1.00000000e+00, 9.97638622e-01,\n",
       "       9.99045444e-01, 9.99699217e-01, 1.00000000e+00, 1.00000000e+00,\n",
       "       1.00000000e+00, 9.99373242e-01, 9.99621233e-01, 9.99493925e-01,\n",
       "       9.99022765e-01, 1.00000000e+00, 1.00000000e+00, 1.00000000e+00,\n",
       "       1.00000000e+00, 9.99595669e-01, 1.00000000e+00, 1.00000000e+00,\n",
       "       1.00000000e+00, 9.99411455e-01, 1.00000000e+00, 1.00000000e+00,\n",
       "       1.00000000e+00, 1.00000000e+00, 1.00000000e+00, 1.00000000e+00,\n",
       "       1.00000000e+00, 9.99741506e-01, 1.00000000e+00, 1.00000000e+00,\n",
       "       9.99640216e-01, 1.00000000e+00, 1.00000000e+00, 1.00000000e+00,\n",
       "       1.00000000e+00, 1.00000000e+00, 1.00000000e+00, 9.99050372e-01])"
      ]
     },
     "execution_count": 3,
     "metadata": {},
     "output_type": "execute_result"
    }
   ],
   "source": [
    "# p-values\n",
    "HiLasso2.p_values_"
   ]
  },
  {
   "cell_type": "code",
   "execution_count": 4,
   "id": "8d1a29b8",
   "metadata": {},
   "outputs": [
    {
     "data": {
      "text/plain": [
       "1.0"
      ]
     },
     "execution_count": 4,
     "metadata": {},
     "output_type": "execute_result"
    }
   ],
   "source": [
    "# evaluating feature selection performance\n",
    "\n",
    "# ground truth of non-zero variables\n",
    "gt = (beta!=0).astype(int)\n",
    "\n",
    "# non-zero variables selected by Hi-LASSO2\n",
    "selection = (HiLasso2.coef_!=0).astype(int)\n",
    "\n",
    "f1_score(gt, selection)"
   ]
  }
 ],
 "metadata": {
  "kernelspec": {
   "display_name": "Python 3 (ipykernel)",
   "language": "python",
   "name": "python3"
  },
  "language_info": {
   "codemirror_mode": {
    "name": "ipython",
    "version": 3
   },
   "file_extension": ".py",
   "mimetype": "text/x-python",
   "name": "python",
   "nbconvert_exporter": "python",
   "pygments_lexer": "ipython3",
   "version": "3.7.13"
  }
 },
 "nbformat": 4,
 "nbformat_minor": 5
}
